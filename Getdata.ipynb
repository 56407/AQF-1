{
 "cells": [
  {
   "cell_type": "code",
   "execution_count": 5,
   "metadata": {},
   "outputs": [],
   "source": [
    "import numpy as np\n",
    "import pandas as pd\n",
    "import os\n",
    "import glob\n",
    "import copy"
   ]
  },
  {
   "cell_type": "code",
   "execution_count": 4,
   "metadata": {},
   "outputs": [],
   "source": [
    "class Getdata():\n",
    "    \"\"\"\n",
    "    提供通达信导出的txt文本数据地址，该地址作为参数。通达信导出格式为ta间隔，日期以YYYY-MM-DD格式。\n",
    "    处理后的csv格式数据保存在该目录下面\n",
    "    默认地址为'D:\\\\tushare\\\\txtdata\\\\index'\n",
    "    \"\"\"    \n",
    "    def __init__(self,addr_in='D:\\\\tushare\\\\txtdata\\\\index',code='000001'):\n",
    "        self.file_address = 'D:\\\\tushare\\\\txtdata\\\\index'\n",
    "        self.code= code\n",
    "        \n",
    "    def save_alldata_from_tdx(self):\n",
    "        os.chdir(self.file_address)\n",
    "        files_list = glob.glob('*.txt')\n",
    "        print(len(files_list))\n",
    "        address = os.getcwd()#返回当前目录\n",
    "\n",
    "        for i in range(len(files_list)):\n",
    "            try:\n",
    "                #header =0,读入文件，txt文件中的第一行保存，然后代码和名称读出为nameN和nameM，skipfooter=1,删除最后一行的通达信数据源，delim_whitespace=True分隔符为tab\n",
    "                data = pd.read_table(address+'\\\\'+ files_list[i],delim_whitespace=True,encoding='gb2312',skipfooter=1,parse_dates=True,infer_datetime_format=True) \n",
    "                nameN = copy.deepcopy(data.columns[0])\n",
    "                nameM = copy.deepcopy(data.columns[1])\n",
    "                #不要st股票,#name1 = re.sub(r'\\/' , 'x',s1)\n",
    "                if ('*st' in nameM):\n",
    "                    print(files_list[i] +' is *ST股票，删除中...')\n",
    "                    continue;\n",
    "                #header =1，再次读入文件，包含txt文本中的第一行，并把刚刚读出的代码和名称写入\n",
    "                data = pd.read_table(address+'\\\\'+ files_list[i],delim_whitespace=True,header =1,encoding='gb2312',skipfooter=1,parse_dates=True,infer_datetime_format=True) \n",
    "                #data = pd.read_table(file_address +'\\\\'+ files_list[i],sep=',',encoding='gb2312',header =1,parse_dates=True,infer_datetime_format=True) \n",
    "                data.insert(1,'code',nameN)\n",
    "                data.insert(2,'name',nameM)\n",
    "                data.rename(index=str, columns={\"开盘\": \"open\", \"收盘\": \"close\", \"成交量\": \"volume\", \"日期\": \"date\", \"最低\": \"low\", \"最高\": \"high\", \"成交额\": \"money\"},inplace=True)\n",
    "                data.to_csv('D'+nameN+'.csv',sep=',',encoding='gb2312')\n",
    "\n",
    "                print(files_list[i] +' has saved!' )\n",
    "            except UnicodeDecodeError:\n",
    "                print(files_list[i] +'gb2312 codec can not decode')\n",
    "            except:\n",
    "                print(files_list[i] +\" has Unexpected error:\")      \n",
    "                \n",
    "    def getstockdata(self，code,start='2016-01-01',end='2017-12-31'):\n",
    "        \"\"\"\n",
    "        获取单个股票处理后的dataframe格式数据,code 默认为000001，默认start='2016-01-01',end='2017-12-31'\n",
    "        \"\"\"\n",
    "        data=pd.read_csv(self.file_address+'\\\\D'+ self.code+'.csv'，sep=',',encoding='gb2312')\n",
    "        #data.set_index('date',inplace=True)\n",
    "        data.index = pd.to_datetime(data1['date'])\n",
    "        data.drop(columns=['Unnamed: 0','date'],axis=1,inplace=True)\n",
    "        \n",
    "        return data[self.start:self.end]\n",
    "        \n",
    "                "
   ]
  },
  {
   "cell_type": "code",
   "execution_count": null,
   "metadata": {},
   "outputs": [],
   "source": []
  }
 ],
 "metadata": {
  "kernelspec": {
   "display_name": "Python 3",
   "language": "python",
   "name": "python3"
  },
  "language_info": {
   "codemirror_mode": {
    "name": "ipython",
    "version": 3
   },
   "file_extension": ".py",
   "mimetype": "text/x-python",
   "name": "python",
   "nbconvert_exporter": "python",
   "pygments_lexer": "ipython3",
   "version": "3.6.5"
  }
 },
 "nbformat": 4,
 "nbformat_minor": 2
}

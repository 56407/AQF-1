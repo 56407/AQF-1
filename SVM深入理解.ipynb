{
 "cells": [
  {
   "cell_type": "markdown",
   "metadata": {},
   "source": [
    "## 通过该数据模型，可以充分理解SVM的线性核，多项式核和高斯核，其各个核参数最最终模型的意义。"
   ]
  },
  {
   "cell_type": "code",
   "execution_count": 1,
   "metadata": {},
   "outputs": [],
   "source": [
    "import sklearn\n",
    "from sklearn import preprocessing\n",
    "from sklearn import linear_model\n",
    "from sklearn.metrics import r2_score#R square\n",
    "from sklearn.svm import SVR"
   ]
  },
  {
   "cell_type": "markdown",
   "metadata": {},
   "source": [
    "#### 建立一个z=x*x+y*y的二次平面数据"
   ]
  },
  {
   "cell_type": "code",
   "execution_count": null,
   "metadata": {},
   "outputs": [],
   "source": [
    "X1_train = [[0,0],[0,1],[1,0],[1,1],[2,0],[-2,0],[1,-3],[-1,-1]]\n",
    "y1_train = [0,1,1,2,4,4,10,2]\n",
    "\n",
    "X1_test = [[2,-1],[0,2],[-1,-2],[1.5,1.5],[-1.5,-1.5]]\n",
    "y1_test = [5,4 ,5,4.5,4.5]"
   ]
  },
  {
   "cell_type": "markdown",
   "metadata": {},
   "source": [
    "#### 建立一个z=y的一次平面数据"
   ]
  },
  {
   "cell_type": "code",
   "execution_count": 2,
   "metadata": {},
   "outputs": [],
   "source": [
    "X2_train = [[0,0],[0,1],[1,0],[1,1],[2,0],[-2,0],[1,-3],[-1,-1]]\n",
    "y2_train = [0,1,0,1,0,0,-3,-1]\n",
    "\n",
    "X2_test = [[2,-1],[0,2],[-1,-2],[1.5,1.5],[-1.5,-1.5]]\n",
    "y2_test = [-1,2 ,-2,1.5,-1.5]"
   ]
  },
  {
   "cell_type": "markdown",
   "metadata": {},
   "source": [
    "#### 在SVM模型中，依次对线性核，2次多项式核，3次多项式核，高斯核的gamma和C参数进行调整，观察R2_score的最终得分情况"
   ]
  },
  {
   "cell_type": "code",
   "execution_count": 4,
   "metadata": {},
   "outputs": [
    {
     "name": "stdout",
     "output_type": "stream",
     "text": [
      "SVR_model prediction is 0.9967639614087215\n",
      "[-1, 2, -2, 1.5, -1.5]\n",
      "[-1.01795163  1.70671071 -1.90597924  1.30864114 -1.42000785]\n",
      "SVR_model prediction is 0.9896091932594075\n",
      "<bound method BaseEstimator.get_params of SVR(C=1000, cache_size=200, coef0=0.0, degree=3, epsilon=0.1, gamma=0.01,\n",
      "  kernel='rbf', max_iter=-1, shrinking=True, tol=0.001, verbose=False)>\n"
     ]
    }
   ],
   "source": [
    "#clf_SVR = SVR(kernel='poly',C=4,degree=2)\n",
    "#clf_SVR = SVR(kernel='linear')\n",
    "clf_SVR = SVR(C= 1000, gamma=0.01) \n",
    "\n",
    "clf_SVR.fit(X_train, y_train)\n",
    "y_train_forcast = clf_SVR.predict(X_train)\n",
    "print ('SVR_model prediction is', sklearn.metrics.r2_score(y_train,y_train_forcast))\n",
    "\n",
    "y_test_forcast = clf_SVR.predict(X_test)\n",
    "print(y_test)\n",
    "print(y_test_forcast)\n",
    "print ('SVR_model prediction is', sklearn.metrics.r2_score(y_test,y_test_forcast))\n",
    "\n",
    "print(clf_SVR.get_params)"
   ]
  },
  {
   "cell_type": "code",
   "execution_count": null,
   "metadata": {},
   "outputs": [],
   "source": []
  }
 ],
 "metadata": {
  "kernelspec": {
   "display_name": "Python 3",
   "language": "python",
   "name": "python3"
  },
  "language_info": {
   "codemirror_mode": {
    "name": "ipython",
    "version": 3
   },
   "file_extension": ".py",
   "mimetype": "text/x-python",
   "name": "python",
   "nbconvert_exporter": "python",
   "pygments_lexer": "ipython3",
   "version": "3.6.5"
  }
 },
 "nbformat": 4,
 "nbformat_minor": 2
}

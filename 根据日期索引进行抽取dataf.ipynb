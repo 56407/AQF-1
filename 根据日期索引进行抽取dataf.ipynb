{
 "cells": [
  {
   "cell_type": "markdown",
   "metadata": {},
   "source": [
    "# 根据索引进行抽取"
   ]
  },
  {
   "cell_type": "code",
   "execution_count": null,
   "metadata": {},
   "outputs": [],
   "source": [
    "    DataFrame.ix[start:end]\n",
    "    DataFrame.ix[dates]"
   ]
  },
  {
   "cell_type": "markdown",
   "metadata": {},
   "source": [
    "### 2 根据时间列进行抽取"
   ]
  },
  {
   "cell_type": "code",
   "execution_count": null,
   "metadata": {},
   "outputs": [],
   "source": [
    "    DataFrame[condition]\n",
    "       \n",
    "    import pandas\n",
    "    \n",
    " 案例：\n",
    "\n",
    "# lambda 获取所有的数据，对时间字段进行格式设置\n",
    "\n",
    "dateparse=lambda dates:pandas.datetime.strptime(\n",
    "        dates,'%Y%m%d'\n",
    "        )\n",
    "\n",
    "data=pandas.read_csv(\n",
    "        'D:\\\\DATA\\\\pycase\\\\4.17时间抽取\\\\data.csv',\n",
    "        engine='python',\n",
    "        encoding='utf8',\n",
    "        parse_dates=['date'],\n",
    "        date_parser=dateparse,\n",
    "        index_col='date'\n",
    "        )"
   ]
  },
  {
   "cell_type": "markdown",
   "metadata": {},
   "source": [
    "### 第一种、 据索引进行抽取"
   ]
  },
  {
   "cell_type": "code",
   "execution_count": null,
   "metadata": {},
   "outputs": [],
   "source": [
    "import datetime\n",
    "\n",
    "dt1=datetime.date(year=2016,month=2,day=1);\n",
    "dt2=datetime.date(year=2016,month=2,day=5);"
   ]
  },
  {
   "cell_type": "code",
   "execution_count": null,
   "metadata": {},
   "outputs": [],
   "source": [
    "# 对应数据范围\n",
    "data.ix[dt1:dt2]"
   ]
  },
  {
   "cell_type": "code",
   "execution_count": null,
   "metadata": {},
   "outputs": [],
   "source": [
    "# 取两个时间点对应数据\n",
    "data.ix[[dt1,dt2]]"
   ]
  },
  {
   "cell_type": "markdown",
   "metadata": {},
   "source": [
    "### 第二种、根据时间进行抽取"
   ]
  },
  {
   "cell_type": "code",
   "execution_count": null,
   "metadata": {},
   "outputs": [],
   "source": [
    "data[(data.date>=dt1)&(data.date<=dt2)]\n",
    "--------------------- \n",
    "作者：UP Lee \n",
    "来源：CSDN \n",
    "原文：https://blog.csdn.net/qq_36327687/article/details/84764817 \n",
    "版权声明：本文为博主原创文章，转载请附上博文链接！"
   ]
  }
 ],
 "metadata": {
  "kernelspec": {
   "display_name": "Python 3",
   "language": "python",
   "name": "python3"
  },
  "language_info": {
   "codemirror_mode": {
    "name": "ipython",
    "version": 3
   },
   "file_extension": ".py",
   "mimetype": "text/x-python",
   "name": "python",
   "nbconvert_exporter": "python",
   "pygments_lexer": "ipython3",
   "version": "3.6.5"
  }
 },
 "nbformat": 4,
 "nbformat_minor": 2
}
